{
 "cells": [
  {
   "cell_type": "code",
   "execution_count": 13,
   "id": "8657ac1f-7824-4b2e-9669-9dcca31575e2",
   "metadata": {},
   "outputs": [],
   "source": [
    "import os\n",
    "import numpy as np\n",
    "import mido\n",
    "import sys\n",
    "cfrom utils.file_utils import get_files_in_path"
   ]
  },
  {
   "cell_type": "code",
   "execution_count": 14,
   "id": "adb2f652-e589-423e-b7c4-286fedfc073e",
   "metadata": {},
   "outputs": [],
   "source": [
    "import tqdm"
   ]
  },
  {
   "cell_type": "code",
   "execution_count": 37,
   "id": "19b3cfec-1a2f-4951-9b02-91267a7f17e4",
   "metadata": {},
   "outputs": [],
   "source": [
    "# To auto reload\n",
    "%load_ext autoreload\n",
    "%autoreload 2"
   ]
  },
  {
   "cell_type": "code",
   "execution_count": 15,
   "id": "8f60d64c-21e9-4204-87b2-ff263fed18f0",
   "metadata": {},
   "outputs": [],
   "source": [
    "sample_dir=\"/home/joy/midi/130000_Pop_Rock_Classical_Videogame_EDM_MIDI_Archive[6_19_15]/L/L/\"\n",
    "midi_files = get_files_in_path(sample_dir, matching_pattern=\"*.mid\")"
   ]
  },
  {
   "cell_type": "code",
   "execution_count": 24,
   "id": "f737913d-4b83-490d-83db-0729637af143",
   "metadata": {},
   "outputs": [
    {
     "name": "stderr",
     "output_type": "stream",
     "text": [
      "0it [00:00, ?it/s]"
     ]
    },
    {
     "name": "stdout",
     "output_type": "stream",
     "text": [
      "<midi track 'untitled' 5 messages>\n"
     ]
    },
    {
     "name": "stderr",
     "output_type": "stream",
     "text": [
      "\n"
     ]
    }
   ],
   "source": [
    "midi_data_set = []\n",
    "for index, midi_file in tqdm.tqdm(enumerate(midi_files)):\n",
    "    data_dict = {}\n",
    "    try:\n",
    "        midi_data = mido.MidiFile(midi_file)\n",
    "    except Exception as e:\n",
    "        continue\n",
    "    midi_data_dict = midi_data.__dict__\n",
    "    data_dict['type'] = midi_data.type\n",
    "    data_dict['ticks_per_beat'] = midi_data.ticks_per_beat\n",
    "    data_dict['clip'] = midi_data_dict.get('clip')\n",
    "    for track in midi_data.tracks:\n",
    "        print(track)\n",
    "        break\n",
    "    break\n",
    "    midi_data_set.append(data_dict)\n",
    "    "
   ]
  },
  {
   "cell_type": "code",
   "execution_count": 25,
   "id": "29c0c3b6-78ec-4cac-9f7e-d4487f8fe9a5",
   "metadata": {},
   "outputs": [
    {
     "data": {
      "text/plain": [
       "dict_keys(['filename', 'type', 'ticks_per_beat', 'charset', 'debug', 'tracks'])"
      ]
     },
     "execution_count": 25,
     "metadata": {},
     "output_type": "execute_result"
    }
   ],
   "source": [
    "midi_data_dict.keys()"
   ]
  },
  {
   "cell_type": "code",
   "execution_count": 54,
   "id": "e824473e-ae5a-41f6-8095-efbb2354b516",
   "metadata": {},
   "outputs": [
    {
     "name": "stderr",
     "output_type": "stream",
     "text": [
      "[autoreload of mido.messages.messages failed: Traceback (most recent call last):\n",
      "  File \"/home/joy/.venv/lib/python3.8/site-packages/IPython/extensions/autoreload.py\", line 245, in check\n",
      "    superreload(m, reload, self.old_objects)\n",
      "  File \"/home/joy/.venv/lib/python3.8/site-packages/IPython/extensions/autoreload.py\", line 410, in superreload\n",
      "    update_generic(old_obj, new_obj)\n",
      "  File \"/home/joy/.venv/lib/python3.8/site-packages/IPython/extensions/autoreload.py\", line 347, in update_generic\n",
      "    update(a, b)\n",
      "  File \"/home/joy/.venv/lib/python3.8/site-packages/IPython/extensions/autoreload.py\", line 317, in update_class\n",
      "    update_instances(old, new)\n",
      "  File \"/home/joy/.venv/lib/python3.8/site-packages/IPython/extensions/autoreload.py\", line 280, in update_instances\n",
      "    ref.__class__ = new\n",
      "  File \"/home/joy/.venv/lib/python3.8/site-packages/mido/messages/messages.py\", line 169, in _setattr\n",
      "    raise AttributeError(\n",
      "AttributeError: note_on message has no attribute __class__\n",
      "]\n",
      "[autoreload of mido.midifiles.meta failed: Traceback (most recent call last):\n",
      "  File \"/home/joy/.venv/lib/python3.8/site-packages/IPython/extensions/autoreload.py\", line 245, in check\n",
      "    superreload(m, reload, self.old_objects)\n",
      "  File \"/home/joy/.venv/lib/python3.8/site-packages/IPython/extensions/autoreload.py\", line 410, in superreload\n",
      "    update_generic(old_obj, new_obj)\n",
      "  File \"/home/joy/.venv/lib/python3.8/site-packages/IPython/extensions/autoreload.py\", line 347, in update_generic\n",
      "    update(a, b)\n",
      "  File \"/home/joy/.venv/lib/python3.8/site-packages/IPython/extensions/autoreload.py\", line 317, in update_class\n",
      "    update_instances(old, new)\n",
      "  File \"/home/joy/.venv/lib/python3.8/site-packages/IPython/extensions/autoreload.py\", line 280, in update_instances\n",
      "    ref.__class__ = new\n",
      "  File \"/home/joy/.venv/lib/python3.8/site-packages/mido/midifiles/meta.py\", line 507, in _setattr\n",
      "    raise AttributeError(\n",
      "AttributeError: end_of_track message has no attribute __class__\n",
      "]\n"
     ]
    }
   ],
   "source": [
    "import torch\n",
    "from tfrecord.torch.dataset import TFRecordDataset"
   ]
  },
  {
   "cell_type": "code",
   "execution_count": 72,
   "id": "ce3df960-c2bf-4979-8cdd-3dd294029be8",
   "metadata": {},
   "outputs": [],
   "source": [
    "tfrecord_path = \"/home/joy/midi/midi.tfrecord\""
   ]
  },
  {
   "cell_type": "code",
   "execution_count": 73,
   "id": "4221707e-3c26-4933-8f11-53a58770116c",
   "metadata": {},
   "outputs": [],
   "source": [
    "data_set = TFRecordDataset(tfrecord_path, index_path=None)"
   ]
  },
  {
   "cell_type": "markdown",
   "id": "f46a93c2-0171-4e2a-85d7-6d755eea0605",
   "metadata": {},
   "source": [
    "data_set"
   ]
  },
  {
   "cell_type": "code",
   "execution_count": 74,
   "id": "d7e0943e-749b-4223-a0b3-4981c3c837f0",
   "metadata": {},
   "outputs": [],
   "source": [
    "import torch"
   ]
  },
  {
   "cell_type": "code",
   "execution_count": 75,
   "id": "a76ea179-e717-49bf-ac67-c749cb790355",
   "metadata": {},
   "outputs": [],
   "source": [
    "loader = torch.utils.data.DataLoader(data_set, batch_size=32)"
   ]
  },
  {
   "cell_type": "code",
   "execution_count": 76,
   "id": "6fa58492-1c92-4686-919b-c8b0d675d4c8",
   "metadata": {},
   "outputs": [
    {
     "ename": "DecodeError",
     "evalue": "Error parsing message",
     "output_type": "error",
     "traceback": [
      "\u001b[0;31m---------------------------------------------------------------------------\u001b[0m",
      "\u001b[0;31mDecodeError\u001b[0m                               Traceback (most recent call last)",
      "\u001b[0;32m/tmp/ipykernel_279803/4177626844.py\u001b[0m in \u001b[0;36m<module>\u001b[0;34m\u001b[0m\n\u001b[0;32m----> 1\u001b[0;31m \u001b[0mdata\u001b[0m \u001b[0;34m=\u001b[0m \u001b[0mnext\u001b[0m\u001b[0;34m(\u001b[0m\u001b[0miter\u001b[0m\u001b[0;34m(\u001b[0m\u001b[0mloader\u001b[0m\u001b[0;34m)\u001b[0m\u001b[0;34m)\u001b[0m\u001b[0;34m\u001b[0m\u001b[0;34m\u001b[0m\u001b[0m\n\u001b[0m",
      "\u001b[0;32m~/.venv/lib/python3.8/site-packages/torch/utils/data/dataloader.py\u001b[0m in \u001b[0;36m__next__\u001b[0;34m(self)\u001b[0m\n\u001b[1;32m    519\u001b[0m             \u001b[0;32mif\u001b[0m \u001b[0mself\u001b[0m\u001b[0;34m.\u001b[0m\u001b[0m_sampler_iter\u001b[0m \u001b[0;32mis\u001b[0m \u001b[0;32mNone\u001b[0m\u001b[0;34m:\u001b[0m\u001b[0;34m\u001b[0m\u001b[0;34m\u001b[0m\u001b[0m\n\u001b[1;32m    520\u001b[0m                 \u001b[0mself\u001b[0m\u001b[0;34m.\u001b[0m\u001b[0m_reset\u001b[0m\u001b[0;34m(\u001b[0m\u001b[0;34m)\u001b[0m\u001b[0;34m\u001b[0m\u001b[0;34m\u001b[0m\u001b[0m\n\u001b[0;32m--> 521\u001b[0;31m             \u001b[0mdata\u001b[0m \u001b[0;34m=\u001b[0m \u001b[0mself\u001b[0m\u001b[0;34m.\u001b[0m\u001b[0m_next_data\u001b[0m\u001b[0;34m(\u001b[0m\u001b[0;34m)\u001b[0m\u001b[0;34m\u001b[0m\u001b[0;34m\u001b[0m\u001b[0m\n\u001b[0m\u001b[1;32m    522\u001b[0m             \u001b[0mself\u001b[0m\u001b[0;34m.\u001b[0m\u001b[0m_num_yielded\u001b[0m \u001b[0;34m+=\u001b[0m \u001b[0;36m1\u001b[0m\u001b[0;34m\u001b[0m\u001b[0;34m\u001b[0m\u001b[0m\n\u001b[1;32m    523\u001b[0m             \u001b[0;32mif\u001b[0m \u001b[0mself\u001b[0m\u001b[0;34m.\u001b[0m\u001b[0m_dataset_kind\u001b[0m \u001b[0;34m==\u001b[0m \u001b[0m_DatasetKind\u001b[0m\u001b[0;34m.\u001b[0m\u001b[0mIterable\u001b[0m \u001b[0;32mand\u001b[0m\u001b[0;31m \u001b[0m\u001b[0;31m\\\u001b[0m\u001b[0;34m\u001b[0m\u001b[0;34m\u001b[0m\u001b[0m\n",
      "\u001b[0;32m~/.venv/lib/python3.8/site-packages/torch/utils/data/dataloader.py\u001b[0m in \u001b[0;36m_next_data\u001b[0;34m(self)\u001b[0m\n\u001b[1;32m    559\u001b[0m     \u001b[0;32mdef\u001b[0m \u001b[0m_next_data\u001b[0m\u001b[0;34m(\u001b[0m\u001b[0mself\u001b[0m\u001b[0;34m)\u001b[0m\u001b[0;34m:\u001b[0m\u001b[0;34m\u001b[0m\u001b[0;34m\u001b[0m\u001b[0m\n\u001b[1;32m    560\u001b[0m         \u001b[0mindex\u001b[0m \u001b[0;34m=\u001b[0m \u001b[0mself\u001b[0m\u001b[0;34m.\u001b[0m\u001b[0m_next_index\u001b[0m\u001b[0;34m(\u001b[0m\u001b[0;34m)\u001b[0m  \u001b[0;31m# may raise StopIteration\u001b[0m\u001b[0;34m\u001b[0m\u001b[0;34m\u001b[0m\u001b[0m\n\u001b[0;32m--> 561\u001b[0;31m         \u001b[0mdata\u001b[0m \u001b[0;34m=\u001b[0m \u001b[0mself\u001b[0m\u001b[0;34m.\u001b[0m\u001b[0m_dataset_fetcher\u001b[0m\u001b[0;34m.\u001b[0m\u001b[0mfetch\u001b[0m\u001b[0;34m(\u001b[0m\u001b[0mindex\u001b[0m\u001b[0;34m)\u001b[0m  \u001b[0;31m# may raise StopIteration\u001b[0m\u001b[0;34m\u001b[0m\u001b[0;34m\u001b[0m\u001b[0m\n\u001b[0m\u001b[1;32m    562\u001b[0m         \u001b[0;32mif\u001b[0m \u001b[0mself\u001b[0m\u001b[0;34m.\u001b[0m\u001b[0m_pin_memory\u001b[0m\u001b[0;34m:\u001b[0m\u001b[0;34m\u001b[0m\u001b[0;34m\u001b[0m\u001b[0m\n\u001b[1;32m    563\u001b[0m             \u001b[0mdata\u001b[0m \u001b[0;34m=\u001b[0m \u001b[0m_utils\u001b[0m\u001b[0;34m.\u001b[0m\u001b[0mpin_memory\u001b[0m\u001b[0;34m.\u001b[0m\u001b[0mpin_memory\u001b[0m\u001b[0;34m(\u001b[0m\u001b[0mdata\u001b[0m\u001b[0;34m)\u001b[0m\u001b[0;34m\u001b[0m\u001b[0;34m\u001b[0m\u001b[0m\n",
      "\u001b[0;32m~/.venv/lib/python3.8/site-packages/torch/utils/data/_utils/fetch.py\u001b[0m in \u001b[0;36mfetch\u001b[0;34m(self, possibly_batched_index)\u001b[0m\n\u001b[1;32m     26\u001b[0m             \u001b[0;32mfor\u001b[0m \u001b[0m_\u001b[0m \u001b[0;32min\u001b[0m \u001b[0mpossibly_batched_index\u001b[0m\u001b[0;34m:\u001b[0m\u001b[0;34m\u001b[0m\u001b[0;34m\u001b[0m\u001b[0m\n\u001b[1;32m     27\u001b[0m                 \u001b[0;32mtry\u001b[0m\u001b[0;34m:\u001b[0m\u001b[0;34m\u001b[0m\u001b[0;34m\u001b[0m\u001b[0m\n\u001b[0;32m---> 28\u001b[0;31m                     \u001b[0mdata\u001b[0m\u001b[0;34m.\u001b[0m\u001b[0mappend\u001b[0m\u001b[0;34m(\u001b[0m\u001b[0mnext\u001b[0m\u001b[0;34m(\u001b[0m\u001b[0mself\u001b[0m\u001b[0;34m.\u001b[0m\u001b[0mdataset_iter\u001b[0m\u001b[0;34m)\u001b[0m\u001b[0;34m)\u001b[0m\u001b[0;34m\u001b[0m\u001b[0;34m\u001b[0m\u001b[0m\n\u001b[0m\u001b[1;32m     29\u001b[0m                 \u001b[0;32mexcept\u001b[0m \u001b[0mStopIteration\u001b[0m\u001b[0;34m:\u001b[0m\u001b[0;34m\u001b[0m\u001b[0;34m\u001b[0m\u001b[0m\n\u001b[1;32m     30\u001b[0m                     \u001b[0;32mbreak\u001b[0m\u001b[0;34m\u001b[0m\u001b[0;34m\u001b[0m\u001b[0m\n",
      "\u001b[0;32m~/.venv/lib/python3.8/site-packages/tfrecord/reader.py\u001b[0m in \u001b[0;36mexample_loader\u001b[0;34m(data_path, index_path, description, shard, compression_type)\u001b[0m\n\u001b[1;32m    219\u001b[0m     \u001b[0;32mfor\u001b[0m \u001b[0mrecord\u001b[0m \u001b[0;32min\u001b[0m \u001b[0mrecord_iterator\u001b[0m\u001b[0;34m:\u001b[0m\u001b[0;34m\u001b[0m\u001b[0;34m\u001b[0m\u001b[0m\n\u001b[1;32m    220\u001b[0m         \u001b[0mexample\u001b[0m \u001b[0;34m=\u001b[0m \u001b[0mexample_pb2\u001b[0m\u001b[0;34m.\u001b[0m\u001b[0mExample\u001b[0m\u001b[0;34m(\u001b[0m\u001b[0;34m)\u001b[0m\u001b[0;34m\u001b[0m\u001b[0;34m\u001b[0m\u001b[0m\n\u001b[0;32m--> 221\u001b[0;31m         \u001b[0mexample\u001b[0m\u001b[0;34m.\u001b[0m\u001b[0mParseFromString\u001b[0m\u001b[0;34m(\u001b[0m\u001b[0mrecord\u001b[0m\u001b[0;34m)\u001b[0m\u001b[0;34m\u001b[0m\u001b[0;34m\u001b[0m\u001b[0m\n\u001b[0m\u001b[1;32m    222\u001b[0m \u001b[0;34m\u001b[0m\u001b[0m\n\u001b[1;32m    223\u001b[0m         \u001b[0;32myield\u001b[0m \u001b[0mextract_feature_dict\u001b[0m\u001b[0;34m(\u001b[0m\u001b[0mexample\u001b[0m\u001b[0;34m.\u001b[0m\u001b[0mfeatures\u001b[0m\u001b[0;34m,\u001b[0m \u001b[0mdescription\u001b[0m\u001b[0;34m,\u001b[0m \u001b[0mtypename_mapping\u001b[0m\u001b[0;34m)\u001b[0m\u001b[0;34m\u001b[0m\u001b[0;34m\u001b[0m\u001b[0m\n",
      "\u001b[0;31mDecodeError\u001b[0m: Error parsing message"
     ]
    }
   ],
   "source": [
    "data = next(iter(loader))"
   ]
  },
  {
   "cell_type": "code",
   "execution_count": 1,
   "id": "0afc71ec-dc02-4b0f-b3f4-7e64d76fa206",
   "metadata": {},
   "outputs": [],
   "source": [
    "from note_seq import midi_io"
   ]
  },
  {
   "cell_type": "code",
   "execution_count": 7,
   "id": "eee692a1-2d23-44d1-82e2-d8277437b0b3",
   "metadata": {
    "scrolled": true,
    "tags": []
   },
   "outputs": [],
   "source": [
    "midi_dict = midi_io.midi_file_to_note_sequence(\"/home/joy/model-archive/10-Nov-21-1636612917/SimpleVaeMidi-6000.midi\")"
   ]
  },
  {
   "cell_type": "code",
   "execution_count": 8,
   "id": "b505af22-7d94-4e9b-af5f-ced56c0ffb42",
   "metadata": {},
   "outputs": [],
   "source": [
    "proto=midi_io.midi_file_to_sequence_proto(\"/home/joy/midi/lmd_full/0/0a0a2b0e4d3b7bf4c5383ba025c4683e.mid\")"
   ]
  },
  {
   "cell_type": "code",
   "execution_count": 83,
   "id": "010328b0-3439-45ec-bab8-9c169c41c305",
   "metadata": {},
   "outputs": [
    {
     "data": {
      "text/plain": [
       "note_seq.protobuf.music_pb2.NoteSequence"
      ]
     },
     "execution_count": 83,
     "metadata": {},
     "output_type": "execute_result"
    }
   ],
   "source": [
    "type(proto)"
   ]
  },
  {
   "cell_type": "code",
   "execution_count": 84,
   "id": "34c12211-c150-4be2-9534-6efd30274e5e",
   "metadata": {},
   "outputs": [
    {
     "ename": "AttributeError",
     "evalue": "bytes",
     "output_type": "error",
     "traceback": [
      "\u001b[0;31m---------------------------------------------------------------------------\u001b[0m",
      "\u001b[0;31mAttributeError\u001b[0m                            Traceback (most recent call last)",
      "\u001b[0;32m/tmp/ipykernel_279803/3888991662.py\u001b[0m in \u001b[0;36m<module>\u001b[0;34m\u001b[0m\n\u001b[0;32m----> 1\u001b[0;31m \u001b[0mproto\u001b[0m\u001b[0;34m.\u001b[0m\u001b[0mbytes\u001b[0m\u001b[0;34m\u001b[0m\u001b[0;34m\u001b[0m\u001b[0m\n\u001b[0m",
      "\u001b[0;31mAttributeError\u001b[0m: bytes"
     ]
    }
   ],
   "source": [
    "proto.bytes"
   ]
  },
  {
   "cell_type": "code",
   "execution_count": 89,
   "id": "bf9fb549-bd76-46d9-b085-0135c63db939",
   "metadata": {},
   "outputs": [
    {
     "data": {
      "text/html": [
       "<div>\n",
       "<style scoped>\n",
       "    .dataframe tbody tr th:only-of-type {\n",
       "        vertical-align: middle;\n",
       "    }\n",
       "\n",
       "    .dataframe tbody tr th {\n",
       "        vertical-align: top;\n",
       "    }\n",
       "\n",
       "    .dataframe thead th {\n",
       "        text-align: right;\n",
       "    }\n",
       "</style>\n",
       "<table border=\"1\" class=\"dataframe\">\n",
       "  <thead>\n",
       "    <tr style=\"text-align: right;\">\n",
       "      <th></th>\n",
       "      <th>0</th>\n",
       "    </tr>\n",
       "  </thead>\n",
       "  <tbody>\n",
       "    <tr>\n",
       "      <th>0</th>\n",
       "      <td>ticks_per_quarter: 480\\ntime_signatures {\\n  n...</td>\n",
       "    </tr>\n",
       "  </tbody>\n",
       "</table>\n",
       "</div>"
      ],
      "text/plain": [
       "                                                   0\n",
       "0  ticks_per_quarter: 480\\ntime_signatures {\\n  n..."
      ]
     },
     "execution_count": 89,
     "metadata": {},
     "output_type": "execute_result"
    }
   ],
   "source": [
    "import pandas as pd\n",
    "pd.DataFrame([midi_dict])"
   ]
  },
  {
   "cell_type": "code",
   "execution_count": 90,
   "id": "e6e3b6ea-7ab2-4b32-8774-05a2549f1c74",
   "metadata": {},
   "outputs": [
    {
     "data": {
      "text/plain": [
       "note_seq.protobuf.music_pb2.NoteSequence"
      ]
     },
     "execution_count": 90,
     "metadata": {},
     "output_type": "execute_result"
    }
   ],
   "source": [
    "type(midi_dict)"
   ]
  },
  {
   "cell_type": "code",
   "execution_count": 9,
   "id": "a9e9a943-22ea-499c-8bbc-caa00ac4ebaf",
   "metadata": {},
   "outputs": [],
   "source": [
    "import note_seq"
   ]
  },
  {
   "cell_type": "code",
   "execution_count": 10,
   "id": "56235718-f888-4307-b34b-312466026f12",
   "metadata": {},
   "outputs": [
    {
     "data": {
      "text/html": [
       "\n",
       "    <div class=\"bk-root\">\n",
       "        <a href=\"https://bokeh.org\" target=\"_blank\" class=\"bk-logo bk-logo-small bk-logo-notebook\"></a>\n",
       "        <span id=\"1281\">Loading BokehJS ...</span>\n",
       "    </div>"
      ]
     },
     "metadata": {},
     "output_type": "display_data"
    },
    {
     "data": {
      "application/javascript": [
       "\n",
       "(function(root) {\n",
       "  function now() {\n",
       "    return new Date();\n",
       "  }\n",
       "\n",
       "  const force = true;\n",
       "\n",
       "  if (typeof root._bokeh_onload_callbacks === \"undefined\" || force === true) {\n",
       "    root._bokeh_onload_callbacks = [];\n",
       "    root._bokeh_is_loading = undefined;\n",
       "  }\n",
       "\n",
       "  const JS_MIME_TYPE = 'application/javascript';\n",
       "  const HTML_MIME_TYPE = 'text/html';\n",
       "  const EXEC_MIME_TYPE = 'application/vnd.bokehjs_exec.v0+json';\n",
       "  const CLASS_NAME = 'output_bokeh rendered_html';\n",
       "\n",
       "  /**\n",
       "   * Render data to the DOM node\n",
       "   */\n",
       "  function render(props, node) {\n",
       "    const script = document.createElement(\"script\");\n",
       "    node.appendChild(script);\n",
       "  }\n",
       "\n",
       "  /**\n",
       "   * Handle when an output is cleared or removed\n",
       "   */\n",
       "  function handleClearOutput(event, handle) {\n",
       "    const cell = handle.cell;\n",
       "\n",
       "    const id = cell.output_area._bokeh_element_id;\n",
       "    const server_id = cell.output_area._bokeh_server_id;\n",
       "    // Clean up Bokeh references\n",
       "    if (id != null && id in Bokeh.index) {\n",
       "      Bokeh.index[id].model.document.clear();\n",
       "      delete Bokeh.index[id];\n",
       "    }\n",
       "\n",
       "    if (server_id !== undefined) {\n",
       "      // Clean up Bokeh references\n",
       "      const cmd_clean = \"from bokeh.io.state import curstate; print(curstate().uuid_to_server['\" + server_id + \"'].get_sessions()[0].document.roots[0]._id)\";\n",
       "      cell.notebook.kernel.execute(cmd_clean, {\n",
       "        iopub: {\n",
       "          output: function(msg) {\n",
       "            const id = msg.content.text.trim();\n",
       "            if (id in Bokeh.index) {\n",
       "              Bokeh.index[id].model.document.clear();\n",
       "              delete Bokeh.index[id];\n",
       "            }\n",
       "          }\n",
       "        }\n",
       "      });\n",
       "      // Destroy server and session\n",
       "      const cmd_destroy = \"import bokeh.io.notebook as ion; ion.destroy_server('\" + server_id + \"')\";\n",
       "      cell.notebook.kernel.execute(cmd_destroy);\n",
       "    }\n",
       "  }\n",
       "\n",
       "  /**\n",
       "   * Handle when a new output is added\n",
       "   */\n",
       "  function handleAddOutput(event, handle) {\n",
       "    const output_area = handle.output_area;\n",
       "    const output = handle.output;\n",
       "\n",
       "    // limit handleAddOutput to display_data with EXEC_MIME_TYPE content only\n",
       "    if ((output.output_type != \"display_data\") || (!Object.prototype.hasOwnProperty.call(output.data, EXEC_MIME_TYPE))) {\n",
       "      return\n",
       "    }\n",
       "\n",
       "    const toinsert = output_area.element.find(\".\" + CLASS_NAME.split(' ')[0]);\n",
       "\n",
       "    if (output.metadata[EXEC_MIME_TYPE][\"id\"] !== undefined) {\n",
       "      toinsert[toinsert.length - 1].firstChild.textContent = output.data[JS_MIME_TYPE];\n",
       "      // store reference to embed id on output_area\n",
       "      output_area._bokeh_element_id = output.metadata[EXEC_MIME_TYPE][\"id\"];\n",
       "    }\n",
       "    if (output.metadata[EXEC_MIME_TYPE][\"server_id\"] !== undefined) {\n",
       "      const bk_div = document.createElement(\"div\");\n",
       "      bk_div.innerHTML = output.data[HTML_MIME_TYPE];\n",
       "      const script_attrs = bk_div.children[0].attributes;\n",
       "      for (let i = 0; i < script_attrs.length; i++) {\n",
       "        toinsert[toinsert.length - 1].firstChild.setAttribute(script_attrs[i].name, script_attrs[i].value);\n",
       "        toinsert[toinsert.length - 1].firstChild.textContent = bk_div.children[0].textContent\n",
       "      }\n",
       "      // store reference to server id on output_area\n",
       "      output_area._bokeh_server_id = output.metadata[EXEC_MIME_TYPE][\"server_id\"];\n",
       "    }\n",
       "  }\n",
       "\n",
       "  function register_renderer(events, OutputArea) {\n",
       "\n",
       "    function append_mime(data, metadata, element) {\n",
       "      // create a DOM node to render to\n",
       "      const toinsert = this.create_output_subarea(\n",
       "        metadata,\n",
       "        CLASS_NAME,\n",
       "        EXEC_MIME_TYPE\n",
       "      );\n",
       "      this.keyboard_manager.register_events(toinsert);\n",
       "      // Render to node\n",
       "      const props = {data: data, metadata: metadata[EXEC_MIME_TYPE]};\n",
       "      render(props, toinsert[toinsert.length - 1]);\n",
       "      element.append(toinsert);\n",
       "      return toinsert\n",
       "    }\n",
       "\n",
       "    /* Handle when an output is cleared or removed */\n",
       "    events.on('clear_output.CodeCell', handleClearOutput);\n",
       "    events.on('delete.Cell', handleClearOutput);\n",
       "\n",
       "    /* Handle when a new output is added */\n",
       "    events.on('output_added.OutputArea', handleAddOutput);\n",
       "\n",
       "    /**\n",
       "     * Register the mime type and append_mime function with output_area\n",
       "     */\n",
       "    OutputArea.prototype.register_mime_type(EXEC_MIME_TYPE, append_mime, {\n",
       "      /* Is output safe? */\n",
       "      safe: true,\n",
       "      /* Index of renderer in `output_area.display_order` */\n",
       "      index: 0\n",
       "    });\n",
       "  }\n",
       "\n",
       "  // register the mime type if in Jupyter Notebook environment and previously unregistered\n",
       "  if (root.Jupyter !== undefined) {\n",
       "    const events = require('base/js/events');\n",
       "    const OutputArea = require('notebook/js/outputarea').OutputArea;\n",
       "\n",
       "    if (OutputArea.prototype.mime_types().indexOf(EXEC_MIME_TYPE) == -1) {\n",
       "      register_renderer(events, OutputArea);\n",
       "    }\n",
       "  }\n",
       "\n",
       "  \n",
       "  if (typeof (root._bokeh_timeout) === \"undefined\" || force === true) {\n",
       "    root._bokeh_timeout = Date.now() + 5000;\n",
       "    root._bokeh_failed_load = false;\n",
       "  }\n",
       "\n",
       "  const NB_LOAD_WARNING = {'data': {'text/html':\n",
       "     \"<div style='background-color: #fdd'>\\n\"+\n",
       "     \"<p>\\n\"+\n",
       "     \"BokehJS does not appear to have successfully loaded. If loading BokehJS from CDN, this \\n\"+\n",
       "     \"may be due to a slow or bad network connection. Possible fixes:\\n\"+\n",
       "     \"</p>\\n\"+\n",
       "     \"<ul>\\n\"+\n",
       "     \"<li>re-rerun `output_notebook()` to attempt to load from CDN again, or</li>\\n\"+\n",
       "     \"<li>use INLINE resources instead, as so:</li>\\n\"+\n",
       "     \"</ul>\\n\"+\n",
       "     \"<code>\\n\"+\n",
       "     \"from bokeh.resources import INLINE\\n\"+\n",
       "     \"output_notebook(resources=INLINE)\\n\"+\n",
       "     \"</code>\\n\"+\n",
       "     \"</div>\"}};\n",
       "\n",
       "  function display_loaded() {\n",
       "    const el = document.getElementById(\"1281\");\n",
       "    if (el != null) {\n",
       "      el.textContent = \"BokehJS is loading...\";\n",
       "    }\n",
       "    if (root.Bokeh !== undefined) {\n",
       "      if (el != null) {\n",
       "        el.textContent = \"BokehJS \" + root.Bokeh.version + \" successfully loaded.\";\n",
       "      }\n",
       "    } else if (Date.now() < root._bokeh_timeout) {\n",
       "      setTimeout(display_loaded, 100)\n",
       "    }\n",
       "  }\n",
       "\n",
       "\n",
       "  function run_callbacks() {\n",
       "    try {\n",
       "      root._bokeh_onload_callbacks.forEach(function(callback) {\n",
       "        if (callback != null)\n",
       "          callback();\n",
       "      });\n",
       "    } finally {\n",
       "      delete root._bokeh_onload_callbacks\n",
       "    }\n",
       "    console.debug(\"Bokeh: all callbacks have finished\");\n",
       "  }\n",
       "\n",
       "  function load_libs(css_urls, js_urls, callback) {\n",
       "    if (css_urls == null) css_urls = [];\n",
       "    if (js_urls == null) js_urls = [];\n",
       "\n",
       "    root._bokeh_onload_callbacks.push(callback);\n",
       "    if (root._bokeh_is_loading > 0) {\n",
       "      console.debug(\"Bokeh: BokehJS is being loaded, scheduling callback at\", now());\n",
       "      return null;\n",
       "    }\n",
       "    if (js_urls == null || js_urls.length === 0) {\n",
       "      run_callbacks();\n",
       "      return null;\n",
       "    }\n",
       "    console.debug(\"Bokeh: BokehJS not loaded, scheduling load and callback at\", now());\n",
       "    root._bokeh_is_loading = css_urls.length + js_urls.length;\n",
       "\n",
       "    function on_load() {\n",
       "      root._bokeh_is_loading--;\n",
       "      if (root._bokeh_is_loading === 0) {\n",
       "        console.debug(\"Bokeh: all BokehJS libraries/stylesheets loaded\");\n",
       "        run_callbacks()\n",
       "      }\n",
       "    }\n",
       "\n",
       "    function on_error(url) {\n",
       "      console.error(\"failed to load \" + url);\n",
       "    }\n",
       "\n",
       "    for (let i = 0; i < css_urls.length; i++) {\n",
       "      const url = css_urls[i];\n",
       "      const element = document.createElement(\"link\");\n",
       "      element.onload = on_load;\n",
       "      element.onerror = on_error.bind(null, url);\n",
       "      element.rel = \"stylesheet\";\n",
       "      element.type = \"text/css\";\n",
       "      element.href = url;\n",
       "      console.debug(\"Bokeh: injecting link tag for BokehJS stylesheet: \", url);\n",
       "      document.body.appendChild(element);\n",
       "    }\n",
       "\n",
       "    for (let i = 0; i < js_urls.length; i++) {\n",
       "      const url = js_urls[i];\n",
       "      const element = document.createElement('script');\n",
       "      element.onload = on_load;\n",
       "      element.onerror = on_error.bind(null, url);\n",
       "      element.async = false;\n",
       "      element.src = url;\n",
       "      console.debug(\"Bokeh: injecting script tag for BokehJS library: \", url);\n",
       "      document.head.appendChild(element);\n",
       "    }\n",
       "  };\n",
       "\n",
       "  function inject_raw_css(css) {\n",
       "    const element = document.createElement(\"style\");\n",
       "    element.appendChild(document.createTextNode(css));\n",
       "    document.body.appendChild(element);\n",
       "  }\n",
       "\n",
       "  \n",
       "  const js_urls = [\"https://cdn.bokeh.org/bokeh/release/bokeh-2.4.1.min.js\", \"https://cdn.bokeh.org/bokeh/release/bokeh-gl-2.4.1.min.js\", \"https://cdn.bokeh.org/bokeh/release/bokeh-widgets-2.4.1.min.js\", \"https://cdn.bokeh.org/bokeh/release/bokeh-tables-2.4.1.min.js\", \"https://cdn.bokeh.org/bokeh/release/bokeh-mathjax-2.4.1.min.js\"];\n",
       "  const css_urls = [];\n",
       "  \n",
       "\n",
       "  const inline_js = [\n",
       "    function(Bokeh) {\n",
       "      Bokeh.set_log_level(\"info\");\n",
       "    },\n",
       "    function(Bokeh) {\n",
       "    \n",
       "    \n",
       "    }\n",
       "  ];\n",
       "\n",
       "  function run_inline_js() {\n",
       "    \n",
       "    if (root.Bokeh !== undefined || force === true) {\n",
       "      \n",
       "    for (let i = 0; i < inline_js.length; i++) {\n",
       "      inline_js[i].call(root, root.Bokeh);\n",
       "    }\n",
       "    if (force === true) {\n",
       "        display_loaded();\n",
       "      }} else if (Date.now() < root._bokeh_timeout) {\n",
       "      setTimeout(run_inline_js, 100);\n",
       "    } else if (!root._bokeh_failed_load) {\n",
       "      console.log(\"Bokeh: BokehJS failed to load within specified timeout.\");\n",
       "      root._bokeh_failed_load = true;\n",
       "    } else if (force !== true) {\n",
       "      const cell = $(document.getElementById(\"1281\")).parents('.cell').data().cell;\n",
       "      cell.output_area.append_execute_result(NB_LOAD_WARNING)\n",
       "    }\n",
       "\n",
       "  }\n",
       "\n",
       "  if (root._bokeh_is_loading === 0) {\n",
       "    console.debug(\"Bokeh: BokehJS loaded, going straight to plotting\");\n",
       "    run_inline_js();\n",
       "  } else {\n",
       "    load_libs(css_urls, js_urls, function() {\n",
       "      console.debug(\"Bokeh: BokehJS plotting callback run at\", now());\n",
       "      run_inline_js();\n",
       "    });\n",
       "  }\n",
       "}(window));"
      ],
      "application/vnd.bokehjs_load.v0+json": "\n(function(root) {\n  function now() {\n    return new Date();\n  }\n\n  const force = true;\n\n  if (typeof root._bokeh_onload_callbacks === \"undefined\" || force === true) {\n    root._bokeh_onload_callbacks = [];\n    root._bokeh_is_loading = undefined;\n  }\n\n  \n\n  \n  if (typeof (root._bokeh_timeout) === \"undefined\" || force === true) {\n    root._bokeh_timeout = Date.now() + 5000;\n    root._bokeh_failed_load = false;\n  }\n\n  const NB_LOAD_WARNING = {'data': {'text/html':\n     \"<div style='background-color: #fdd'>\\n\"+\n     \"<p>\\n\"+\n     \"BokehJS does not appear to have successfully loaded. If loading BokehJS from CDN, this \\n\"+\n     \"may be due to a slow or bad network connection. Possible fixes:\\n\"+\n     \"</p>\\n\"+\n     \"<ul>\\n\"+\n     \"<li>re-rerun `output_notebook()` to attempt to load from CDN again, or</li>\\n\"+\n     \"<li>use INLINE resources instead, as so:</li>\\n\"+\n     \"</ul>\\n\"+\n     \"<code>\\n\"+\n     \"from bokeh.resources import INLINE\\n\"+\n     \"output_notebook(resources=INLINE)\\n\"+\n     \"</code>\\n\"+\n     \"</div>\"}};\n\n  function display_loaded() {\n    const el = document.getElementById(\"1281\");\n    if (el != null) {\n      el.textContent = \"BokehJS is loading...\";\n    }\n    if (root.Bokeh !== undefined) {\n      if (el != null) {\n        el.textContent = \"BokehJS \" + root.Bokeh.version + \" successfully loaded.\";\n      }\n    } else if (Date.now() < root._bokeh_timeout) {\n      setTimeout(display_loaded, 100)\n    }\n  }\n\n\n  function run_callbacks() {\n    try {\n      root._bokeh_onload_callbacks.forEach(function(callback) {\n        if (callback != null)\n          callback();\n      });\n    } finally {\n      delete root._bokeh_onload_callbacks\n    }\n    console.debug(\"Bokeh: all callbacks have finished\");\n  }\n\n  function load_libs(css_urls, js_urls, callback) {\n    if (css_urls == null) css_urls = [];\n    if (js_urls == null) js_urls = [];\n\n    root._bokeh_onload_callbacks.push(callback);\n    if (root._bokeh_is_loading > 0) {\n      console.debug(\"Bokeh: BokehJS is being loaded, scheduling callback at\", now());\n      return null;\n    }\n    if (js_urls == null || js_urls.length === 0) {\n      run_callbacks();\n      return null;\n    }\n    console.debug(\"Bokeh: BokehJS not loaded, scheduling load and callback at\", now());\n    root._bokeh_is_loading = css_urls.length + js_urls.length;\n\n    function on_load() {\n      root._bokeh_is_loading--;\n      if (root._bokeh_is_loading === 0) {\n        console.debug(\"Bokeh: all BokehJS libraries/stylesheets loaded\");\n        run_callbacks()\n      }\n    }\n\n    function on_error(url) {\n      console.error(\"failed to load \" + url);\n    }\n\n    for (let i = 0; i < css_urls.length; i++) {\n      const url = css_urls[i];\n      const element = document.createElement(\"link\");\n      element.onload = on_load;\n      element.onerror = on_error.bind(null, url);\n      element.rel = \"stylesheet\";\n      element.type = \"text/css\";\n      element.href = url;\n      console.debug(\"Bokeh: injecting link tag for BokehJS stylesheet: \", url);\n      document.body.appendChild(element);\n    }\n\n    for (let i = 0; i < js_urls.length; i++) {\n      const url = js_urls[i];\n      const element = document.createElement('script');\n      element.onload = on_load;\n      element.onerror = on_error.bind(null, url);\n      element.async = false;\n      element.src = url;\n      console.debug(\"Bokeh: injecting script tag for BokehJS library: \", url);\n      document.head.appendChild(element);\n    }\n  };\n\n  function inject_raw_css(css) {\n    const element = document.createElement(\"style\");\n    element.appendChild(document.createTextNode(css));\n    document.body.appendChild(element);\n  }\n\n  \n  const js_urls = [\"https://cdn.bokeh.org/bokeh/release/bokeh-2.4.1.min.js\", \"https://cdn.bokeh.org/bokeh/release/bokeh-gl-2.4.1.min.js\", \"https://cdn.bokeh.org/bokeh/release/bokeh-widgets-2.4.1.min.js\", \"https://cdn.bokeh.org/bokeh/release/bokeh-tables-2.4.1.min.js\", \"https://cdn.bokeh.org/bokeh/release/bokeh-mathjax-2.4.1.min.js\"];\n  const css_urls = [];\n  \n\n  const inline_js = [\n    function(Bokeh) {\n      Bokeh.set_log_level(\"info\");\n    },\n    function(Bokeh) {\n    \n    \n    }\n  ];\n\n  function run_inline_js() {\n    \n    if (root.Bokeh !== undefined || force === true) {\n      \n    for (let i = 0; i < inline_js.length; i++) {\n      inline_js[i].call(root, root.Bokeh);\n    }\n    if (force === true) {\n        display_loaded();\n      }} else if (Date.now() < root._bokeh_timeout) {\n      setTimeout(run_inline_js, 100);\n    } else if (!root._bokeh_failed_load) {\n      console.log(\"Bokeh: BokehJS failed to load within specified timeout.\");\n      root._bokeh_failed_load = true;\n    } else if (force !== true) {\n      const cell = $(document.getElementById(\"1281\")).parents('.cell').data().cell;\n      cell.output_area.append_execute_result(NB_LOAD_WARNING)\n    }\n\n  }\n\n  if (root._bokeh_is_loading === 0) {\n    console.debug(\"Bokeh: BokehJS loaded, going straight to plotting\");\n    run_inline_js();\n  } else {\n    load_libs(css_urls, js_urls, function() {\n      console.debug(\"Bokeh: BokehJS plotting callback run at\", now());\n      run_inline_js();\n    });\n  }\n}(window));"
     },
     "metadata": {},
     "output_type": "display_data"
    },
    {
     "data": {
      "text/html": [
       "\n",
       "\n",
       "\n",
       "\n",
       "\n",
       "\n",
       "  <div class=\"bk-root\" id=\"ba01b5c5-e733-4168-8e07-19501ed687d3\" data-root-id=\"1196\"></div>\n"
      ]
     },
     "metadata": {},
     "output_type": "display_data"
    },
    {
     "data": {
      "application/javascript": [
       "(function(root) {\n",
       "  function embed_document(root) {\n",
       "    \n",
       "  const docs_json = {\"f0b29355-4f12-4f38-a2ae-ea2dcc239bd9\":{\"defs\":[],\"roots\":{\"references\":[{\"attributes\":{\"below\":[{\"id\":\"1205\"}],\"center\":[{\"id\":\"1208\"},{\"id\":\"1212\"}],\"height\":200,\"left\":[{\"id\":\"1209\"}],\"renderers\":[{\"id\":\"1233\"},{\"id\":\"1240\"},{\"id\":\"1247\"},{\"id\":\"1254\"},{\"id\":\"1261\"}],\"title\":{\"id\":\"1263\"},\"toolbar\":{\"id\":\"1219\"},\"width\":500,\"x_range\":{\"id\":\"1197\"},\"x_scale\":{\"id\":\"1201\"},\"y_range\":{\"id\":\"1199\"},\"y_scale\":{\"id\":\"1203\"}},\"id\":\"1196\",\"subtype\":\"Figure\",\"type\":\"Plot\"},{\"attributes\":{\"callback\":null,\"tooltips\":[[\"pitch\",\"@pitch\"],[\"program\",\"@program\"],[\"velo\",\"@velocity\"],[\"duration\",\"@duration\"],[\"start_time\",\"@start_time\"],[\"end_time\",\"@end_time\"],[\"velocity\",\"@velocity\"],[\"fill_alpha\",\"@fill_alpha\"]]},\"id\":\"1213\",\"type\":\"HoverTool\"},{\"attributes\":{},\"id\":\"1216\",\"type\":\"ResetTool\"},{\"attributes\":{\"bottom\":{\"field\":\"bottom\"},\"fill_alpha\":{\"value\":0.1},\"fill_color\":{\"value\":\"#f46d43\"},\"hatch_alpha\":{\"value\":0.1},\"left\":{\"field\":\"start_time\"},\"line_alpha\":{\"value\":0.1},\"right\":{\"field\":\"end_time\"},\"top\":{\"field\":\"top\"}},\"id\":\"1245\",\"type\":\"Quad\"},{\"attributes\":{},\"id\":\"1279\",\"type\":\"Selection\"},{\"attributes\":{\"bottom\":{\"field\":\"bottom\"},\"fill_alpha\":{\"field\":\"fill_alpha\"},\"fill_color\":{\"value\":\"#d53e4f\"},\"left\":{\"field\":\"start_time\"},\"right\":{\"field\":\"end_time\"},\"top\":{\"field\":\"top\"}},\"id\":\"1230\",\"type\":\"Quad\"},{\"attributes\":{},\"id\":\"1271\",\"type\":\"Selection\"},{\"attributes\":{\"bottom\":{\"field\":\"bottom\"},\"fill_alpha\":{\"value\":0.1},\"fill_color\":{\"value\":\"#3288bd\"},\"hatch_alpha\":{\"value\":0.1},\"left\":{\"field\":\"start_time\"},\"line_alpha\":{\"value\":0.1},\"right\":{\"field\":\"end_time\"},\"top\":{\"field\":\"top\"}},\"id\":\"1238\",\"type\":\"Quad\"},{\"attributes\":{},\"id\":\"1214\",\"type\":\"PanTool\"},{\"attributes\":{},\"id\":\"1274\",\"type\":\"UnionRenderers\"},{\"attributes\":{\"data\":{\"bottom\":{\"__ndarray__\":\"ZmZmZmYmUkBmZmZmZiZSQGZmZmZm5lFAZmZmZmZmUkBmZmZmZmZSQGZmZmZmZlJAZmZmZmYmUkBmZmZmZiZSQGZmZmZmJlJAZmZmZmYmUkBmZmZmZiZSQGZmZmZm5lFAZmZmZmbmUUBmZmZmZuZRQGZmZmZmJlJAZmZmZmYmUkBmZmZmZuZRQGZmZmZmplFA\",\"dtype\":\"float64\",\"order\":\"little\",\"shape\":[18]},\"duration\":{\"__ndarray__\":\"FLpL4qwI3j+Qy7ipgYbWPxa6S+KsCN4/YHCUvDoH2T9gcJS8OgfZP5DLuKmBhtY/YHCUvDoH2T+Qy7ipgYbWP5DLuKmBhtY/kMu4qYGG1j+Qy7ipgYbWP6DLuKmBhtY/oMu4qYGG1j+gy7ipgYbWP6DLuKmBhtY/wCbdlsgF1D+gy7ipgYbWP6DLuKmBhtY/\",\"dtype\":\"float64\",\"order\":\"little\",\"shape\":[18]},\"end_time\":{\"__ndarray__\":\"/kemQ6db8D/+R6ZDp1vwP2oaFM0DnPE/Ih0ewvhzDUAiHR7C+HMNQCIdHsL4cw1AOlyrPezkGEA6XKs97OQYQDpcqz3s5BhAOlyrPezkGEA6XKs97OQYQMv3jETocyFAy/eMROhzIUDL94xE6HMhQMv3jETocyFAy/eMROhzIUB5QURqWnUmQACuZMfGYitA\",\"dtype\":\"float64\",\"order\":\"little\",\"shape\":[18]},\"fill_alpha\":{\"__ndarray__\":\"AAAAAACA5T8AAAAAAIDlPwAAAAAAgOU/AAAAAACA5T8AAAAAAIDlPwAAAAAAgOU/AAAAAACA5T8AAAAAAIDlPwAAAAAAgOU/AAAAAACA5T8AAAAAAIDlPwAAAAAAgOU/AAAAAACA5T8AAAAAAIDlPwAAAAAAgOU/AAAAAACA5T8AAAAAAIDlPwAAAAAAgOQ/\",\"dtype\":\"float64\",\"order\":\"little\",\"shape\":[18]},\"index\":[1,2,3,4,5,6,7,8,9,10,11,12,13,14,15,16,17,18],\"instrument\":[1,1,1,1,1,1,1,1,1,1,1,1,1,1,1,1,1,1],\"pitch\":[73,73,72,74,74,74,73,73,73,73,73,72,72,72,73,73,72,71],\"program\":[35,35,35,35,35,35,35,35,35,35,35,35,35,35,35,35,35,35],\"start_time\":{\"__ndarray__\":\"8rImFviy4T80KnCyDXTlP8lXAimxM+Q/Fo+LahFTCkAWj4tqEVMKQLAD54woowpANBXikXhUF0CBzw8jhHwXQIHPDyOEfBdAgc8PI4R8F0CBzw8jhHwXQG4xPze0vyBAbjE/N7S/IEBuMT83tL8gQG4xPze0vyBAlQ7W/7nTIEAce/ZcJsElQKPnFrqSripA\",\"dtype\":\"float64\",\"order\":\"little\",\"shape\":[18]},\"top\":{\"__ndarray__\":\"mpmZmZlZUkCamZmZmVlSQJqZmZmZGVJAmpmZmZmZUkCamZmZmZlSQJqZmZmZmVJAmpmZmZlZUkCamZmZmVlSQJqZmZmZWVJAmpmZmZlZUkCamZmZmVlSQJqZmZmZGVJAmpmZmZkZUkCamZmZmRlSQJqZmZmZWVJAmpmZmZlZUkCamZmZmRlSQJqZmZmZ2VFA\",\"dtype\":\"float64\",\"order\":\"little\",\"shape\":[18]},\"velocity\":[86,86,86,86,86,86,86,86,86,86,86,86,86,86,86,86,86,82]},\"selected\":{\"id\":\"1273\"},\"selection_policy\":{\"id\":\"1272\"}},\"id\":\"1235\",\"type\":\"ColumnDataSource\"},{\"attributes\":{\"source\":{\"id\":\"1249\"}},\"id\":\"1255\",\"type\":\"CDSView\"},{\"attributes\":{\"overlay\":{\"id\":\"1218\"}},\"id\":\"1215\",\"type\":\"BoxZoomTool\"},{\"attributes\":{\"source\":{\"id\":\"1242\"}},\"id\":\"1248\",\"type\":\"CDSView\"},{\"attributes\":{},\"id\":\"1266\",\"type\":\"AllLabels\"},{\"attributes\":{},\"id\":\"1265\",\"type\":\"BasicTickFormatter\"},{\"attributes\":{\"bottom\":{\"field\":\"bottom\"},\"fill_alpha\":{\"value\":0.1},\"fill_color\":{\"value\":\"#fdae61\"},\"hatch_alpha\":{\"value\":0.1},\"left\":{\"field\":\"start_time\"},\"line_alpha\":{\"value\":0.1},\"right\":{\"field\":\"end_time\"},\"top\":{\"field\":\"top\"}},\"id\":\"1259\",\"type\":\"Quad\"},{\"attributes\":{\"tools\":[{\"id\":\"1213\"},{\"id\":\"1214\"},{\"id\":\"1215\"},{\"id\":\"1216\"},{\"id\":\"1217\"}]},\"id\":\"1219\",\"type\":\"Toolbar\"},{\"attributes\":{\"bottom\":{\"field\":\"bottom\"},\"fill_alpha\":{\"value\":0.2},\"fill_color\":{\"value\":\"#3288bd\"},\"hatch_alpha\":{\"value\":0.2},\"left\":{\"field\":\"start_time\"},\"line_alpha\":{\"value\":0.2},\"right\":{\"field\":\"end_time\"},\"top\":{\"field\":\"top\"}},\"id\":\"1239\",\"type\":\"Quad\"},{\"attributes\":{},\"id\":\"1276\",\"type\":\"UnionRenderers\"},{\"attributes\":{},\"id\":\"1278\",\"type\":\"UnionRenderers\"},{\"attributes\":{},\"id\":\"1277\",\"type\":\"Selection\"},{\"attributes\":{\"bottom\":{\"field\":\"bottom\"},\"fill_alpha\":{\"value\":0.2},\"fill_color\":{\"value\":\"#66c2a5\"},\"hatch_alpha\":{\"value\":0.2},\"left\":{\"field\":\"start_time\"},\"line_alpha\":{\"value\":0.2},\"right\":{\"field\":\"end_time\"},\"top\":{\"field\":\"top\"}},\"id\":\"1253\",\"type\":\"Quad\"},{\"attributes\":{\"coordinates\":null,\"data_source\":{\"id\":\"1242\"},\"glyph\":{\"id\":\"1244\"},\"group\":null,\"hover_glyph\":null,\"muted_glyph\":{\"id\":\"1246\"},\"nonselection_glyph\":{\"id\":\"1245\"},\"view\":{\"id\":\"1248\"}},\"id\":\"1247\",\"type\":\"GlyphRenderer\"},{\"attributes\":{},\"id\":\"1275\",\"type\":\"Selection\"},{\"attributes\":{\"bottom\":{\"field\":\"bottom\"},\"fill_alpha\":{\"field\":\"fill_alpha\"},\"fill_color\":{\"value\":\"#fdae61\"},\"left\":{\"field\":\"start_time\"},\"right\":{\"field\":\"end_time\"},\"top\":{\"field\":\"top\"}},\"id\":\"1258\",\"type\":\"Quad\"},{\"attributes\":{\"data\":{\"bottom\":{\"__ndarray__\":\"ZmZmZmZmUkBmZmZmZiZSQGZmZmZmZlJAZmZmZmbmUUBmZmZmZiZSQGZmZmZmJlJAZmZmZmYmUkBmZmZmZuZRQA==\",\"dtype\":\"float64\",\"order\":\"little\",\"shape\":[8]},\"duration\":{\"__ndarray__\":\"da+T+rJE4D+gy7ipgYbWP6DLuKmBhtY/oMu4qYGG1j+gy7ipgYbWP6DLuKmBhtY/wCbdlsgF1D+gy7ipgYbWPw==\",\"dtype\":\"float64\",\"order\":\"little\",\"shape\":[8]},\"end_time\":{\"__ndarray__\":\"TkaVYdy16z95QURqWnUmQHlBRGpadSZAAK5kx8ZiK0AArmTHxmIrQACuZMfGYitAAK5kx8ZiK0DX+412HDIwQA==\",\"dtype\":\"float64\",\"order\":\"little\",\"shape\":[8]},\"fill_alpha\":{\"__ndarray__\":\"AAAAAACA5T8AAAAAAIDkPwAAAAAAgOU/AAAAAACA5D8AAAAAAIDkPwAAAAAAgOQ/AAAAAACA5D8AAAAAAIDkPw==\",\"dtype\":\"float64\",\"order\":\"little\",\"shape\":[8]},\"index\":[90,91,92,93,94,95,96,97],\"instrument\":[3,3,3,3,3,3,3,3],\"pitch\":[74,73,74,72,73,73,73,72],\"program\":[37,37,37,37,37,37,37,37],\"start_time\":{\"__ndarray__\":\"si0DzlLi1j8ce/ZcJsElQBx79lwmwSVAo+cWupKuKkCj5xa6kq4qQKPnFrqSripAysStgpjCKkBRMc7fBLAvQA==\",\"dtype\":\"float64\",\"order\":\"little\",\"shape\":[8]},\"top\":{\"__ndarray__\":\"mpmZmZmZUkCamZmZmVlSQJqZmZmZmVJAmpmZmZkZUkCamZmZmVlSQJqZmZmZWVJAmpmZmZlZUkCamZmZmRlSQA==\",\"dtype\":\"float64\",\"order\":\"little\",\"shape\":[8]},\"velocity\":[86,82,86,82,82,82,82,82]},\"selected\":{\"id\":\"1277\"},\"selection_policy\":{\"id\":\"1276\"}},\"id\":\"1249\",\"type\":\"ColumnDataSource\"},{\"attributes\":{\"coordinates\":null,\"group\":null},\"id\":\"1263\",\"type\":\"Title\"},{\"attributes\":{\"source\":{\"id\":\"1228\"}},\"id\":\"1234\",\"type\":\"CDSView\"},{\"attributes\":{\"coordinates\":null,\"data_source\":{\"id\":\"1235\"},\"glyph\":{\"id\":\"1237\"},\"group\":null,\"hover_glyph\":null,\"muted_glyph\":{\"id\":\"1239\"},\"nonselection_glyph\":{\"id\":\"1238\"},\"view\":{\"id\":\"1241\"}},\"id\":\"1240\",\"type\":\"GlyphRenderer\"},{\"attributes\":{},\"id\":\"1197\",\"type\":\"DataRange1d\"},{\"attributes\":{\"source\":{\"id\":\"1235\"}},\"id\":\"1241\",\"type\":\"CDSView\"},{\"attributes\":{\"bottom\":{\"field\":\"bottom\"},\"fill_alpha\":{\"value\":0.1},\"fill_color\":{\"value\":\"#d53e4f\"},\"hatch_alpha\":{\"value\":0.1},\"left\":{\"field\":\"start_time\"},\"line_alpha\":{\"value\":0.1},\"right\":{\"field\":\"end_time\"},\"top\":{\"field\":\"top\"}},\"id\":\"1231\",\"type\":\"Quad\"},{\"attributes\":{\"coordinates\":null,\"data_source\":{\"id\":\"1228\"},\"glyph\":{\"id\":\"1230\"},\"group\":null,\"hover_glyph\":null,\"muted_glyph\":{\"id\":\"1232\"},\"nonselection_glyph\":{\"id\":\"1231\"},\"view\":{\"id\":\"1234\"}},\"id\":\"1233\",\"type\":\"GlyphRenderer\"},{\"attributes\":{\"bottom\":{\"field\":\"bottom\"},\"fill_alpha\":{\"field\":\"fill_alpha\"},\"fill_color\":{\"value\":\"#3288bd\"},\"left\":{\"field\":\"start_time\"},\"right\":{\"field\":\"end_time\"},\"top\":{\"field\":\"top\"}},\"id\":\"1237\",\"type\":\"Quad\"},{\"attributes\":{},\"id\":\"1272\",\"type\":\"UnionRenderers\"},{\"attributes\":{\"coordinates\":null,\"data_source\":{\"id\":\"1249\"},\"glyph\":{\"id\":\"1251\"},\"group\":null,\"hover_glyph\":null,\"muted_glyph\":{\"id\":\"1253\"},\"nonselection_glyph\":{\"id\":\"1252\"},\"view\":{\"id\":\"1255\"}},\"id\":\"1254\",\"type\":\"GlyphRenderer\"},{\"attributes\":{\"interval\":12},\"id\":\"1227\",\"type\":\"SingleIntervalTicker\"},{\"attributes\":{\"data\":{\"bottom\":{\"__ndarray__\":\"ZmZmZmbmUkBmZmZmZuZSQA==\",\"dtype\":\"float64\",\"order\":\"little\",\"shape\":[2]},\"duration\":{\"__ndarray__\":\"da+T+rJE4D88FXDP84fbPw==\",\"dtype\":\"float64\",\"order\":\"little\",\"shape\":[2]},\"end_time\":{\"__ndarray__\":\"JetwdJU27j8l63B0lTbuPw==\",\"dtype\":\"float64\",\"order\":\"little\",\"shape\":[2]},\"fill_alpha\":{\"__ndarray__\":\"AAAAAACA5T8AAAAAAIDlPw==\",\"dtype\":\"float64\",\"order\":\"little\",\"shape\":[2]},\"index\":[98,99],\"instrument\":[4,4],\"pitch\":[76,76],\"program\":[38,38],\"start_time\":{\"__ndarray__\":\"YHe688Tj2z+H4LiMm3LgPw==\",\"dtype\":\"float64\",\"order\":\"little\",\"shape\":[2]},\"top\":{\"__ndarray__\":\"mpmZmZkZU0CamZmZmRlTQA==\",\"dtype\":\"float64\",\"order\":\"little\",\"shape\":[2]},\"velocity\":[86,86]},\"selected\":{\"id\":\"1279\"},\"selection_policy\":{\"id\":\"1278\"}},\"id\":\"1256\",\"type\":\"ColumnDataSource\"},{\"attributes\":{},\"id\":\"1273\",\"type\":\"Selection\"},{\"attributes\":{},\"id\":\"1268\",\"type\":\"BasicTickFormatter\"},{\"attributes\":{\"axis_label\":\"time (sec)\",\"coordinates\":null,\"formatter\":{\"id\":\"1268\"},\"group\":null,\"major_label_policy\":{\"id\":\"1269\"},\"ticker\":{\"id\":\"1206\"}},\"id\":\"1205\",\"type\":\"LinearAxis\"},{\"attributes\":{\"bottom\":{\"field\":\"bottom\"},\"fill_alpha\":{\"value\":0.2},\"fill_color\":{\"value\":\"#f46d43\"},\"hatch_alpha\":{\"value\":0.2},\"left\":{\"field\":\"start_time\"},\"line_alpha\":{\"value\":0.2},\"right\":{\"field\":\"end_time\"},\"top\":{\"field\":\"top\"}},\"id\":\"1246\",\"type\":\"Quad\"},{\"attributes\":{},\"id\":\"1201\",\"type\":\"LinearScale\"},{\"attributes\":{\"bottom\":{\"field\":\"bottom\"},\"fill_alpha\":{\"value\":0.2},\"fill_color\":{\"value\":\"#fdae61\"},\"hatch_alpha\":{\"value\":0.2},\"left\":{\"field\":\"start_time\"},\"line_alpha\":{\"value\":0.2},\"right\":{\"field\":\"end_time\"},\"top\":{\"field\":\"top\"}},\"id\":\"1260\",\"type\":\"Quad\"},{\"attributes\":{\"axis_label\":\"pitch (MIDI)\",\"coordinates\":null,\"formatter\":{\"id\":\"1265\"},\"group\":null,\"major_label_policy\":{\"id\":\"1266\"},\"ticker\":{\"id\":\"1225\"}},\"id\":\"1209\",\"type\":\"LinearAxis\"},{\"attributes\":{\"bottom\":{\"field\":\"bottom\"},\"fill_alpha\":{\"field\":\"fill_alpha\"},\"fill_color\":{\"value\":\"#f46d43\"},\"left\":{\"field\":\"start_time\"},\"right\":{\"field\":\"end_time\"},\"top\":{\"field\":\"top\"}},\"id\":\"1244\",\"type\":\"Quad\"},{\"attributes\":{},\"id\":\"1199\",\"type\":\"DataRange1d\"},{\"attributes\":{\"bottom_units\":\"screen\",\"coordinates\":null,\"fill_alpha\":0.5,\"fill_color\":\"lightgrey\",\"group\":null,\"left_units\":\"screen\",\"level\":\"overlay\",\"line_alpha\":1.0,\"line_color\":\"black\",\"line_dash\":[4,4],\"line_width\":2,\"right_units\":\"screen\",\"syncable\":false,\"top_units\":\"screen\"},\"id\":\"1218\",\"type\":\"BoxAnnotation\"},{\"attributes\":{},\"id\":\"1203\",\"type\":\"LinearScale\"},{\"attributes\":{\"bottom\":{\"field\":\"bottom\"},\"fill_alpha\":{\"value\":0.2},\"fill_color\":{\"value\":\"#d53e4f\"},\"hatch_alpha\":{\"value\":0.2},\"left\":{\"field\":\"start_time\"},\"line_alpha\":{\"value\":0.2},\"right\":{\"field\":\"end_time\"},\"top\":{\"field\":\"top\"}},\"id\":\"1232\",\"type\":\"Quad\"},{\"attributes\":{\"bottom\":{\"field\":\"bottom\"},\"fill_alpha\":{\"field\":\"fill_alpha\"},\"fill_color\":{\"value\":\"#66c2a5\"},\"left\":{\"field\":\"start_time\"},\"right\":{\"field\":\"end_time\"},\"top\":{\"field\":\"top\"}},\"id\":\"1251\",\"type\":\"Quad\"},{\"attributes\":{\"data\":{\"bottom\":{\"__ndarray__\":\"ZmZmZmYmUkBmZmZmZiZSQGZmZmZmJlJAZmZmZmZmUkBmZmZmZmZSQGZmZmZmZlJAZmZmZmZmUkBmZmZmZmZSQGZmZmZmZlJAZmZmZmamUkBmZmZmZqZSQGZmZmZmplJAZmZmZmamUkBmZmZmZmZSQGZmZmZmZlJAZmZmZmZmUkBmZmZmZmZSQGZmZmZmZlJAZmZmZmZmUkBmZmZmZmZSQGZmZmZmZlJAZmZmZmZmUkBmZmZmZqZSQGZmZmZmJlJAZmZmZmYmUkBmZmZmZiZSQGZmZmZmJlJAZmZmZmYmUkBmZmZmZiZSQGZmZmZmJlJAZmZmZmYmUkBmZmZmZiZSQGZmZmZmZlJAZmZmZmZmUkBmZmZmZmZSQGZmZmZmZlJAZmZmZmZmUkBmZmZmZuZRQGZmZmZm5lFAZmZmZmbmUUBmZmZmZuZRQGZmZmZm5lFAZmZmZmbmUUBmZmZmZuZRQGZmZmZm5lFAZmZmZmYmUkBmZmZmZiZSQGZmZmZmJlJAZmZmZmYmUkBmZmZmZiZSQGZmZmZmJlJAZmZmZmYmUkBmZmZmZiZSQGZmZmZmplFAZmZmZmbmUUBmZmZmZuZRQGZmZmZm5lFAZmZmZmbmUUBmZmZmZuZRQGZmZmZm5lFAZmZmZmbmUUBmZmZmZuZRQGZmZmZm5lFAZmZmZmbmUUBmZmZmZuZRQGZmZmZm5lFAZmZmZmbmUUBmZmZmZiZSQGZmZmZmplFAZmZmZmbmUUBmZmZmZuZRQA==\",\"dtype\":\"float64\",\"order\":\"little\",\"shape\":[71]},\"duration\":{\"__ndarray__\":\"PBVwz/OH2z9AFXDP84fbP5DLuKmBhtY/QBVwz/OH2z+Qy7ipgYbWP8Am3ZbIBdQ/wCbdlsgF1D/ggQGED4XRP+CBAYQPhdE/YHCUvDoH2T9gcJS8OgfZP5DLuKmBhtY/kMu4qYGG1j+Ay7ipgYbWP4DLuKmBhtY/sCbdlsgF1D+wJt2WyAXUP7Am3ZbIBdQ/sCbdlsgF1D+wJt2WyAXUP7Am3ZbIBdQ/sCbdlsgF1D+Qy7ipgYbWP5DLuKmBhtY/oMu4qYGG1j+gy7ipgYbWP6DLuKmBhtY/oMu4qYGG1j+gy7ipgYbWP6DLuKmBhtY/oMu4qYGG1j/AJt2WyAXUP6DLuKmBhtY/oMu4qYGG1j+gy7ipgYbWP8Am3ZbIBdQ/wCbdlsgF1D+Ay7ipgYbWP4DLuKmBhtY/gMu4qYGG1j+Ay7ipgYbWP8Am3ZbIBdQ/wCbdlsgF1D/AJt2WyAXUP8Am3ZbIBdQ/gMu4qYGG1j/AJt2WyAXUP8Am3ZbIBdQ/wCbdlsgF1D/AJt2WyAXUP8Am3ZbIBdQ/wCbdlsgF1D/AJt2WyAXUP4DLuKmBhtY/oMu4qYGG1j+gy7ipgYbWP6DLuKmBhtY/oMu4qYGG1j+gy7ipgYbWP6DLuKmBhtY/oMu4qYGG1j+gy7ipgYbWP6DLuKmBhtY/oMu4qYGG1j/AJt2WyAXUP8Am3ZbIBdQ/wCbdlsgF1D+gy7ipgYbWP6DLuKmBhtY/oMu4qYGG1j+gy7ipgYbWPw==\",\"dtype\":\"float64\",\"order\":\"little\",\"shape\":[71]},\"end_time\":{\"__ndarray__\":\"/kemQ6db8D/sM2d9ytMMQOwzZ33K0wxAiKjCn+EjDUCIqMKf4SMNQIiowp/hIw1AiKjCn+EjDUCIqMKf4SMNQIiowp/hIw1AIh0ewvhzDUAiHR7C+HMNQCIdHsL4cw1AIh0ewvhzDUDsoX2s4LwYQOyhfazgvBhA7KF9rOC8GEDsoX2s4LwYQOyhfazgvBhA7KF9rOC8GEDsoX2s4LwYQOyhfazgvBhA7KF9rOC8GEA6XKs97OQYQIcW2c73DBlAy/eMROhzIUDL94xE6HMhQMv3jETocyFAy/eMROhzIUDL94xE6HMhQMv3jETocyFAy/eMROhzIUDL94xE6HMhQMv3jETocyFAy/eMROhzIUDL94xE6HMhQMv3jETocyFAy/eMROhzIUBSZK2hVGEmQFJkraFUYSZAUmStoVRhJkBSZK2hVGEmQFJkraFUYSZAUmStoVRhJkBSZK2hVGEmQFJkraFUYSZAUmStoVRhJkBSZK2hVGEmQFJkraFUYSZAUmStoVRhJkBSZK2hVGEmQFJkraFUYSZAUmStoVRhJkBSZK2hVGEmQNnQzf7ATitAAK5kx8ZiK0AArmTHxmIrQACuZMfGYitAAK5kx8ZiK0AArmTHxmIrQACuZMfGYitAAK5kx8ZiK0AArmTHxmIrQACuZMfGYitAAK5kx8ZiK0AArmTHxmIrQACuZMfGYitAAK5kx8ZiK0AArmTHxmIrQNf7jXYcMjBA1/uNdhwyMEDX+412HDIwQA==\",\"dtype\":\"float64\",\"order\":\"little\",\"shape\":[71]},\"fill_alpha\":{\"__ndarray__\":\"AAAAAACA5T8AAAAAAIDlPwAAAAAAgOU/AAAAAACA5T8AAAAAAIDlPwAAAAAAgOU/AAAAAACA5T8AAAAAAIDlPwAAAAAAgOU/AAAAAACA5T8AAAAAAIDlPwAAAAAAgOU/AAAAAACA5T8AAAAAAIDlPwAAAAAAgOU/AAAAAACA5T8AAAAAAIDlPwAAAAAAgOU/AAAAAACA5T8AAAAAAIDlPwAAAAAAgOU/AAAAAACA5T8AAAAAAIDlPwAAAAAAgOU/AAAAAACA5T8AAAAAAIDlPwAAAAAAgOU/AAAAAACA5T8AAAAAAIDlPwAAAAAAgOU/AAAAAACA5T8AAAAAAIDlPwAAAAAAgOU/AAAAAACA5T8AAAAAAIDlPwAAAAAAgOU/AAAAAACA5T8AAAAAAIDkPwAAAAAAgOQ/AAAAAACA5D8AAAAAAIDlPwAAAAAAgOQ/AAAAAACA5D8AAAAAAIDkPwAAAAAAgOU/AAAAAACA5D8AAAAAAIDkPwAAAAAAgOQ/AAAAAACA5T8AAAAAAIDlPwAAAAAAgOU/AAAAAACA5T8AAAAAAIDlPwAAAAAAgOQ/AAAAAACA5D8AAAAAAIDkPwAAAAAAgOQ/AAAAAACA5D8AAAAAAIDkPwAAAAAAgOQ/AAAAAACA5D8AAAAAAIDkPwAAAAAAgOQ/AAAAAACA5D8AAAAAAIDkPwAAAAAAgOQ/AAAAAACA5D8AAAAAAIDkPwAAAAAAgOQ/AAAAAACA5D8AAAAAAIDkPw==\",\"dtype\":\"float64\",\"order\":\"little\",\"shape\":[71]},\"index\":[19,20,21,22,23,24,25,26,27,28,29,30,31,32,33,34,35,36,37,38,39,40,41,42,43,44,45,46,47,48,49,50,51,52,53,54,55,56,57,58,59,60,61,62,63,64,65,66,67,68,69,70,71,72,73,74,75,76,77,78,79,80,81,82,83,84,85,86,87,88,89],\"instrument\":[2,2,2,2,2,2,2,2,2,2,2,2,2,2,2,2,2,2,2,2,2,2,2,2,2,2,2,2,2,2,2,2,2,2,2,2,2,2,2,2,2,2,2,2,2,2,2,2,2,2,2,2,2,2,2,2,2,2,2,2,2,2,2,2,2,2,2,2,2,2,2],\"pitch\":[73,73,73,74,74,74,74,74,74,75,75,75,75,74,74,74,74,74,74,74,74,74,75,73,73,73,73,73,73,73,73,73,74,74,74,74,74,72,72,72,72,72,72,72,72,73,73,73,73,73,73,73,73,71,72,72,72,72,72,72,72,72,72,72,72,72,72,73,71,72,72],\"program\":[36,36,36,36,36,36,36,36,36,36,36,36,36,36,36,36,36,36,36,36,36,36,36,36,36,36,36,36,36,36,36,36,36,36,36,36,36,36,36,36,36,36,36,36,36,36,36,36,36,36,36,36,36,36,36,36,36,36,36,36,36,36,36,36,36,36,36,36,36,36,36],\"start_time\":{\"__ndarray__\":\"XoWUn1Tz4j9EMXkDzGIJQHoaMEj6AgpA4KXUJeOyCUAWj4tqEVMKQLAD54woowpAsAPnjCijCkBMeEKvP/MKQEx4Qq8/8wpAFo+LahFTCkAWj4tqEVMKQLAD54woowpAsAPnjCijCkA0FeKReFQXQDQV4pF4VBdAgc8PI4R8F0CBzw8jhHwXQIHPDyOEfBdAgc8PI4R8F0CBzw8jhHwXQIHPDyOEfBdAgc8PI4R8F0CBzw8jhHwXQM6JPbSPpBdAbjE/N7S/IEBuMT83tL8gQG4xPze0vyBAbjE/N7S/IEBuMT83tL8gQG4xPze0vyBAbjE/N7S/IECVDtb/udMgQG4xPze0vyBAbjE/N7S/IEBuMT83tL8gQJUO1v+50yBAlQ7W/7nTIED2nV+UIK0lQPadX5QgrSVA9p1flCCtJUD2nV+UIK0lQBx79lwmwSVAHHv2XCbBJUAce/ZcJsElQBx79lwmwSVA9p1flCCtJUAce/ZcJsElQBx79lwmwSVAHHv2XCbBJUAce/ZcJsElQBx79lwmwSVAHHv2XCbBJUAce/ZcJsElQH0KgPGMmipAo+cWupKuKkCj5xa6kq4qQKPnFrqSripAo+cWupKuKkCj5xa6kq4qQKPnFrqSripAo+cWupKuKkCj5xa6kq4qQKPnFrqSripAo+cWupKuKkDKxK2CmMIqQMrErYKYwipAysStgpjCKkCj5xa6kq4qQFExzt8EsC9AUTHO3wSwL0BRMc7fBLAvQA==\",\"dtype\":\"float64\",\"order\":\"little\",\"shape\":[71]},\"top\":{\"__ndarray__\":\"mpmZmZlZUkCamZmZmVlSQJqZmZmZWVJAmpmZmZmZUkCamZmZmZlSQJqZmZmZmVJAmpmZmZmZUkCamZmZmZlSQJqZmZmZmVJAmpmZmZnZUkCamZmZmdlSQJqZmZmZ2VJAmpmZmZnZUkCamZmZmZlSQJqZmZmZmVJAmpmZmZmZUkCamZmZmZlSQJqZmZmZmVJAmpmZmZmZUkCamZmZmZlSQJqZmZmZmVJAmpmZmZmZUkCamZmZmdlSQJqZmZmZWVJAmpmZmZlZUkCamZmZmVlSQJqZmZmZWVJAmpmZmZlZUkCamZmZmVlSQJqZmZmZWVJAmpmZmZlZUkCamZmZmVlSQJqZmZmZmVJAmpmZmZmZUkCamZmZmZlSQJqZmZmZmVJAmpmZmZmZUkCamZmZmRlSQJqZmZmZGVJAmpmZmZkZUkCamZmZmRlSQJqZmZmZGVJAmpmZmZkZUkCamZmZmRlSQJqZmZmZGVJAmpmZmZlZUkCamZmZmVlSQJqZmZmZWVJAmpmZmZlZUkCamZmZmVlSQJqZmZmZWVJAmpmZmZlZUkCamZmZmVlSQJqZmZmZ2VFAmpmZmZkZUkCamZmZmRlSQJqZmZmZGVJAmpmZmZkZUkCamZmZmRlSQJqZmZmZGVJAmpmZmZkZUkCamZmZmRlSQJqZmZmZGVJAmpmZmZkZUkCamZmZmRlSQJqZmZmZGVJAmpmZmZkZUkCamZmZmVlSQJqZmZmZ2VFAmpmZmZkZUkCamZmZmRlSQA==\",\"dtype\":\"float64\",\"order\":\"little\",\"shape\":[71]},\"velocity\":[86,86,86,86,86,86,86,86,86,86,86,86,86,86,86,86,86,86,86,86,86,86,86,86,86,86,86,86,86,86,86,86,86,86,86,86,86,82,82,82,86,82,82,82,86,82,82,82,86,86,86,86,86,82,82,82,82,82,82,82,82,82,82,82,82,82,82,82,82,82,82]},\"selected\":{\"id\":\"1275\"},\"selection_policy\":{\"id\":\"1274\"}},\"id\":\"1242\",\"type\":\"ColumnDataSource\"},{\"attributes\":{},\"id\":\"1269\",\"type\":\"AllLabels\"},{\"attributes\":{\"source\":{\"id\":\"1256\"}},\"id\":\"1262\",\"type\":\"CDSView\"},{\"attributes\":{\"bottom\":{\"field\":\"bottom\"},\"fill_alpha\":{\"value\":0.1},\"fill_color\":{\"value\":\"#66c2a5\"},\"hatch_alpha\":{\"value\":0.1},\"left\":{\"field\":\"start_time\"},\"line_alpha\":{\"value\":0.1},\"right\":{\"field\":\"end_time\"},\"top\":{\"field\":\"top\"}},\"id\":\"1252\",\"type\":\"Quad\"},{\"attributes\":{},\"id\":\"1217\",\"type\":\"SaveTool\"},{\"attributes\":{\"interval\":12},\"id\":\"1225\",\"type\":\"SingleIntervalTicker\"},{\"attributes\":{\"axis\":{\"id\":\"1209\"},\"coordinates\":null,\"dimension\":1,\"group\":null,\"ticker\":{\"id\":\"1227\"}},\"id\":\"1212\",\"type\":\"Grid\"},{\"attributes\":{\"coordinates\":null,\"data_source\":{\"id\":\"1256\"},\"glyph\":{\"id\":\"1258\"},\"group\":null,\"hover_glyph\":null,\"muted_glyph\":{\"id\":\"1260\"},\"nonselection_glyph\":{\"id\":\"1259\"},\"view\":{\"id\":\"1262\"}},\"id\":\"1261\",\"type\":\"GlyphRenderer\"},{\"attributes\":{},\"id\":\"1206\",\"type\":\"BasicTicker\"},{\"attributes\":{},\"id\":\"1270\",\"type\":\"UnionRenderers\"},{\"attributes\":{\"axis\":{\"id\":\"1205\"},\"coordinates\":null,\"group\":null,\"ticker\":null},\"id\":\"1208\",\"type\":\"Grid\"},{\"attributes\":{\"data\":{\"bottom\":{\"__ndarray__\":\"ZmZmZmbmUEA=\",\"dtype\":\"float64\",\"order\":\"little\",\"shape\":[1]},\"duration\":{\"__ndarray__\":\"4YEBhA+F4T8=\",\"dtype\":\"float64\",\"order\":\"little\",\"shape\":[1]},\"end_time\":{\"__ndarray__\":\"43Mn2H916j8=\",\"dtype\":\"float64\",\"order\":\"little\",\"shape\":[1]},\"fill_alpha\":{\"__ndarray__\":\"AAAAAACA5j8=\",\"dtype\":\"float64\",\"order\":\"little\",\"shape\":[1]},\"index\":[0],\"instrument\":[0],\"pitch\":[68],\"program\":[34],\"start_time\":{\"__ndarray__\":\"BORLqODg0T8=\",\"dtype\":\"float64\",\"order\":\"little\",\"shape\":[1]},\"top\":{\"__ndarray__\":\"mpmZmZkZUUA=\",\"dtype\":\"float64\",\"order\":\"little\",\"shape\":[1]},\"velocity\":[90]},\"selected\":{\"id\":\"1271\"},\"selection_policy\":{\"id\":\"1270\"}},\"id\":\"1228\",\"type\":\"ColumnDataSource\"}],\"root_ids\":[\"1196\"]},\"title\":\"Bokeh Application\",\"version\":\"2.4.1\"}};\n",
       "  const render_items = [{\"docid\":\"f0b29355-4f12-4f38-a2ae-ea2dcc239bd9\",\"root_ids\":[\"1196\"],\"roots\":{\"1196\":\"ba01b5c5-e733-4168-8e07-19501ed687d3\"}}];\n",
       "  root.Bokeh.embed.embed_items_notebook(docs_json, render_items);\n",
       "\n",
       "  }\n",
       "  if (root.Bokeh !== undefined) {\n",
       "    embed_document(root);\n",
       "  } else {\n",
       "    let attempts = 0;\n",
       "    const timer = setInterval(function(root) {\n",
       "      if (root.Bokeh !== undefined) {\n",
       "        clearInterval(timer);\n",
       "        embed_document(root);\n",
       "      } else {\n",
       "        attempts++;\n",
       "        if (attempts > 100) {\n",
       "          clearInterval(timer);\n",
       "          console.log(\"Bokeh: ERROR: Unable to run BokehJS code because BokehJS library is missing\");\n",
       "        }\n",
       "      }\n",
       "    }, 10, root)\n",
       "  }\n",
       "})(window);"
      ],
      "application/vnd.bokehjs_exec.v0+json": ""
     },
     "metadata": {
      "application/vnd.bokehjs_exec.v0+json": {
       "id": "1196"
      }
     },
     "output_type": "display_data"
    }
   ],
   "source": [
    "note_seq.plot_sequence(midi_dict)"
   ]
  },
  {
   "cell_type": "code",
   "execution_count": 9,
   "id": "4e032f5a-320c-4764-a81a-928880dddf77",
   "metadata": {},
   "outputs": [
    {
     "ename": "MIDIConversionError",
     "evalue": "Midi decoding error <class 'OSError'>: MThd not found. Probably not a MIDI file",
     "output_type": "error",
     "traceback": [
      "\u001b[0;31m---------------------------------------------------------------------------\u001b[0m",
      "\u001b[0;31mOSError\u001b[0m                                   Traceback (most recent call last)",
      "\u001b[0;32m~/.venv/lib/python3.8/site-packages/note_seq/midi_io.py\u001b[0m in \u001b[0;36mmidi_to_note_sequence\u001b[0;34m(midi_data)\u001b[0m\n\u001b[1;32m     68\u001b[0m     \u001b[0;32mtry\u001b[0m\u001b[0;34m:\u001b[0m\u001b[0;34m\u001b[0m\u001b[0;34m\u001b[0m\u001b[0m\n\u001b[0;32m---> 69\u001b[0;31m       \u001b[0mmidi\u001b[0m \u001b[0;34m=\u001b[0m \u001b[0mpretty_midi\u001b[0m\u001b[0;34m.\u001b[0m\u001b[0mPrettyMIDI\u001b[0m\u001b[0;34m(\u001b[0m\u001b[0mio\u001b[0m\u001b[0;34m.\u001b[0m\u001b[0mBytesIO\u001b[0m\u001b[0;34m(\u001b[0m\u001b[0mmidi_data\u001b[0m\u001b[0;34m)\u001b[0m\u001b[0;34m)\u001b[0m\u001b[0;34m\u001b[0m\u001b[0;34m\u001b[0m\u001b[0m\n\u001b[0m\u001b[1;32m     70\u001b[0m     \u001b[0;32mexcept\u001b[0m\u001b[0;34m:\u001b[0m\u001b[0;34m\u001b[0m\u001b[0;34m\u001b[0m\u001b[0m\n",
      "\u001b[0;32m~/.venv/lib/python3.8/site-packages/pretty_midi/pretty_midi.py\u001b[0m in \u001b[0;36m__init__\u001b[0;34m(self, midi_file, resolution, initial_tempo)\u001b[0m\n\u001b[1;32m     62\u001b[0m                 \u001b[0;31m# Otherwise, try passing it in as a file pointer\u001b[0m\u001b[0;34m\u001b[0m\u001b[0;34m\u001b[0m\u001b[0;34m\u001b[0m\u001b[0m\n\u001b[0;32m---> 63\u001b[0;31m                 \u001b[0mmidi_data\u001b[0m \u001b[0;34m=\u001b[0m \u001b[0mmido\u001b[0m\u001b[0;34m.\u001b[0m\u001b[0mMidiFile\u001b[0m\u001b[0;34m(\u001b[0m\u001b[0mfile\u001b[0m\u001b[0;34m=\u001b[0m\u001b[0mmidi_file\u001b[0m\u001b[0;34m)\u001b[0m\u001b[0;34m\u001b[0m\u001b[0;34m\u001b[0m\u001b[0m\n\u001b[0m\u001b[1;32m     64\u001b[0m \u001b[0;34m\u001b[0m\u001b[0m\n",
      "\u001b[0;32m~/.venv/lib/python3.8/site-packages/mido/midifiles/midifiles.py\u001b[0m in \u001b[0;36m__init__\u001b[0;34m(self, filename, file, type, ticks_per_beat, charset, debug)\u001b[0m\n\u001b[1;32m    292\u001b[0m         \u001b[0;32mif\u001b[0m \u001b[0mfile\u001b[0m \u001b[0;32mis\u001b[0m \u001b[0;32mnot\u001b[0m \u001b[0;32mNone\u001b[0m\u001b[0;34m:\u001b[0m\u001b[0;34m\u001b[0m\u001b[0;34m\u001b[0m\u001b[0m\n\u001b[0;32m--> 293\u001b[0;31m             \u001b[0mself\u001b[0m\u001b[0;34m.\u001b[0m\u001b[0m_load\u001b[0m\u001b[0;34m(\u001b[0m\u001b[0mfile\u001b[0m\u001b[0;34m)\u001b[0m\u001b[0;34m\u001b[0m\u001b[0;34m\u001b[0m\u001b[0m\n\u001b[0m\u001b[1;32m    294\u001b[0m         \u001b[0;32melif\u001b[0m \u001b[0mself\u001b[0m\u001b[0;34m.\u001b[0m\u001b[0mfilename\u001b[0m \u001b[0;32mis\u001b[0m \u001b[0;32mnot\u001b[0m \u001b[0;32mNone\u001b[0m\u001b[0;34m:\u001b[0m\u001b[0;34m\u001b[0m\u001b[0;34m\u001b[0m\u001b[0m\n",
      "\u001b[0;32m~/.venv/lib/python3.8/site-packages/mido/midifiles/midifiles.py\u001b[0m in \u001b[0;36m_load\u001b[0;34m(self, infile)\u001b[0m\n\u001b[1;32m    319\u001b[0m              \u001b[0mnum_tracks\u001b[0m\u001b[0;34m,\u001b[0m\u001b[0;34m\u001b[0m\u001b[0;34m\u001b[0m\u001b[0m\n\u001b[0;32m--> 320\u001b[0;31m              self.ticks_per_beat) = read_file_header(infile)\n\u001b[0m\u001b[1;32m    321\u001b[0m \u001b[0;34m\u001b[0m\u001b[0m\n",
      "\u001b[0;32m~/.venv/lib/python3.8/site-packages/mido/midifiles/midifiles.py\u001b[0m in \u001b[0;36mread_file_header\u001b[0;34m(infile)\u001b[0m\n\u001b[1;32m    103\u001b[0m     \u001b[0;32mif\u001b[0m \u001b[0mname\u001b[0m \u001b[0;34m!=\u001b[0m \u001b[0;34mb'MThd'\u001b[0m\u001b[0;34m:\u001b[0m\u001b[0;34m\u001b[0m\u001b[0;34m\u001b[0m\u001b[0m\n\u001b[0;32m--> 104\u001b[0;31m         \u001b[0;32mraise\u001b[0m \u001b[0mIOError\u001b[0m\u001b[0;34m(\u001b[0m\u001b[0;34m'MThd not found. Probably not a MIDI file'\u001b[0m\u001b[0;34m)\u001b[0m\u001b[0;34m\u001b[0m\u001b[0;34m\u001b[0m\u001b[0m\n\u001b[0m\u001b[1;32m    105\u001b[0m     \u001b[0;32melse\u001b[0m\u001b[0;34m:\u001b[0m\u001b[0;34m\u001b[0m\u001b[0;34m\u001b[0m\u001b[0m\n",
      "\u001b[0;31mOSError\u001b[0m: MThd not found. Probably not a MIDI file",
      "\nDuring handling of the above exception, another exception occurred:\n",
      "\u001b[0;31mMIDIConversionError\u001b[0m                       Traceback (most recent call last)",
      "\u001b[0;32m/tmp/ipykernel_21976/439352640.py\u001b[0m in \u001b[0;36m<module>\u001b[0;34m\u001b[0m\n\u001b[0;32m----> 1\u001b[0;31m \u001b[0mmidi_dict_real\u001b[0m \u001b[0;34m=\u001b[0m \u001b[0mmidi_io\u001b[0m\u001b[0;34m.\u001b[0m\u001b[0mmidi_file_to_note_sequence\u001b[0m\u001b[0;34m(\u001b[0m\u001b[0;34m'/home/joy/midi/KeeperoftheStars2.mid'\u001b[0m\u001b[0;34m)\u001b[0m\u001b[0;34m\u001b[0m\u001b[0;34m\u001b[0m\u001b[0m\n\u001b[0m",
      "\u001b[0;32m~/.venv/lib/python3.8/site-packages/note_seq/midi_io.py\u001b[0m in \u001b[0;36mmidi_file_to_note_sequence\u001b[0;34m(midi_file)\u001b[0m\n\u001b[1;32m    185\u001b[0m   \u001b[0;32mwith\u001b[0m \u001b[0mopen\u001b[0m\u001b[0;34m(\u001b[0m\u001b[0mmidi_file\u001b[0m\u001b[0;34m,\u001b[0m \u001b[0;34m'rb'\u001b[0m\u001b[0;34m)\u001b[0m \u001b[0;32mas\u001b[0m \u001b[0mf\u001b[0m\u001b[0;34m:\u001b[0m\u001b[0;34m\u001b[0m\u001b[0;34m\u001b[0m\u001b[0m\n\u001b[1;32m    186\u001b[0m     \u001b[0mmidi_as_string\u001b[0m \u001b[0;34m=\u001b[0m \u001b[0mf\u001b[0m\u001b[0;34m.\u001b[0m\u001b[0mread\u001b[0m\u001b[0;34m(\u001b[0m\u001b[0;34m)\u001b[0m\u001b[0;34m\u001b[0m\u001b[0;34m\u001b[0m\u001b[0m\n\u001b[0;32m--> 187\u001b[0;31m     \u001b[0;32mreturn\u001b[0m \u001b[0mmidi_to_note_sequence\u001b[0m\u001b[0;34m(\u001b[0m\u001b[0mmidi_as_string\u001b[0m\u001b[0;34m)\u001b[0m\u001b[0;34m\u001b[0m\u001b[0;34m\u001b[0m\u001b[0m\n\u001b[0m\u001b[1;32m    188\u001b[0m \u001b[0;34m\u001b[0m\u001b[0m\n\u001b[1;32m    189\u001b[0m \u001b[0;34m\u001b[0m\u001b[0m\n",
      "\u001b[0;32m~/.venv/lib/python3.8/site-packages/note_seq/midi_io.py\u001b[0m in \u001b[0;36mmidi_to_note_sequence\u001b[0;34m(midi_data)\u001b[0m\n\u001b[1;32m     69\u001b[0m       \u001b[0mmidi\u001b[0m \u001b[0;34m=\u001b[0m \u001b[0mpretty_midi\u001b[0m\u001b[0;34m.\u001b[0m\u001b[0mPrettyMIDI\u001b[0m\u001b[0;34m(\u001b[0m\u001b[0mio\u001b[0m\u001b[0;34m.\u001b[0m\u001b[0mBytesIO\u001b[0m\u001b[0;34m(\u001b[0m\u001b[0mmidi_data\u001b[0m\u001b[0;34m)\u001b[0m\u001b[0;34m)\u001b[0m\u001b[0;34m\u001b[0m\u001b[0;34m\u001b[0m\u001b[0m\n\u001b[1;32m     70\u001b[0m     \u001b[0;32mexcept\u001b[0m\u001b[0;34m:\u001b[0m\u001b[0;34m\u001b[0m\u001b[0;34m\u001b[0m\u001b[0m\n\u001b[0;32m---> 71\u001b[0;31m       raise MIDIConversionError('Midi decoding error %s: %s' %\n\u001b[0m\u001b[1;32m     72\u001b[0m                                 (sys.exc_info()[0], sys.exc_info()[1]))\n\u001b[1;32m     73\u001b[0m   \u001b[0;31m# pylint: enable=bare-except\u001b[0m\u001b[0;34m\u001b[0m\u001b[0;34m\u001b[0m\u001b[0;34m\u001b[0m\u001b[0m\n",
      "\u001b[0;31mMIDIConversionError\u001b[0m: Midi decoding error <class 'OSError'>: MThd not found. Probably not a MIDI file"
     ]
    }
   ],
   "source": [
    "midi_dict_real = midi_io.midi_file_to_note_sequence('/home/joy/midi/KeeperoftheStars2.mid')"
   ]
  },
  {
   "cell_type": "code",
   "execution_count": 7,
   "id": "36a71f7c-28ba-4b31-ab9c-b6edca431906",
   "metadata": {},
   "outputs": [
    {
     "ename": "NameError",
     "evalue": "name 'drums' is not defined",
     "output_type": "error",
     "traceback": [
      "\u001b[0;31m---------------------------------------------------------------------------\u001b[0m",
      "\u001b[0;31mNameError\u001b[0m                                 Traceback (most recent call last)",
      "\u001b[0;32m/tmp/ipykernel_292317/1087780947.py\u001b[0m in \u001b[0;36m<module>\u001b[0;34m\u001b[0m\n\u001b[1;32m      1\u001b[0m \u001b[0;31m# This creates a file called `drums_sample_output.mid`, containing the drums solo we've been using.\u001b[0m\u001b[0;34m\u001b[0m\u001b[0;34m\u001b[0m\u001b[0;34m\u001b[0m\u001b[0m\n\u001b[0;32m----> 2\u001b[0;31m \u001b[0mnote_seq\u001b[0m\u001b[0;34m.\u001b[0m\u001b[0msequence_proto_to_midi_file\u001b[0m\u001b[0;34m(\u001b[0m\u001b[0mdrums\u001b[0m\u001b[0;34m,\u001b[0m \u001b[0;34m'drums_sample_output.mid'\u001b[0m\u001b[0;34m)\u001b[0m\u001b[0;34m\u001b[0m\u001b[0;34m\u001b[0m\u001b[0m\n\u001b[0m\u001b[1;32m      3\u001b[0m \u001b[0;34m\u001b[0m\u001b[0m\n\u001b[1;32m      4\u001b[0m \u001b[0;31m# This is a colab utility method to download that file. In your Python script, you\u001b[0m\u001b[0;34m\u001b[0m\u001b[0;34m\u001b[0m\u001b[0;34m\u001b[0m\u001b[0m\n\u001b[1;32m      5\u001b[0m \u001b[0;31m# would just write it to disk.\u001b[0m\u001b[0;34m\u001b[0m\u001b[0;34m\u001b[0m\u001b[0;34m\u001b[0m\u001b[0m\n",
      "\u001b[0;31mNameError\u001b[0m: name 'drums' is not defined"
     ]
    }
   ],
   "source": [
    "# This creates a file called `drums_sample_output.mid`, containing the drums solo we've been using.\n",
    "note_seq.sequence_proto_to_midi_file(drums, 'drums_sample_output.mid')\n",
    "\n",
    "# This is a colab utility method to download that file. In your Python script, you \n",
    "# would just write it to disk.\n",
    "files.download('drums_sample_output.mid')"
   ]
  },
  {
   "cell_type": "code",
   "execution_count": 11,
   "id": "fb904e86-7560-4de1-8a8b-f65ecb93bee5",
   "metadata": {},
   "outputs": [
    {
     "ename": "ModuleNotFoundError",
     "evalue": "No module named 'music_vae'",
     "output_type": "error",
     "traceback": [
      "\u001b[0;31m---------------------------------------------------------------------------\u001b[0m",
      "\u001b[0;31mModuleNotFoundError\u001b[0m                       Traceback (most recent call last)",
      "\u001b[0;32m/tmp/ipykernel_292317/3367395299.py\u001b[0m in \u001b[0;36m<module>\u001b[0;34m\u001b[0m\n\u001b[1;32m      1\u001b[0m \u001b[0;32mimport\u001b[0m \u001b[0mmagenta\u001b[0m\u001b[0;34m\u001b[0m\u001b[0;34m\u001b[0m\u001b[0m\n\u001b[0;32m----> 2\u001b[0;31m \u001b[0;32mimport\u001b[0m \u001b[0mmusic_vae\u001b[0m\u001b[0;34m\u001b[0m\u001b[0;34m\u001b[0m\u001b[0m\n\u001b[0m\u001b[1;32m      3\u001b[0m \u001b[0mmagenta\u001b[0m\u001b[0;34m.\u001b[0m\u001b[0mmusic_vae\u001b[0m\u001b[0;34m.\u001b[0m\u001b[0mdata\u001b[0m\u001b[0;34m.\u001b[0m\u001b[0mLegacyEventListOneHotConverter\u001b[0m\u001b[0;34m\u001b[0m\u001b[0;34m\u001b[0m\u001b[0m\n",
      "\u001b[0;31mModuleNotFoundError\u001b[0m: No module named 'music_vae'"
     ]
    }
   ],
   "source": [
    "import magenta\n",
    "import music_vae\n",
    "magenta.music_vae.data.LegacyEventListOneHotConverter"
   ]
  },
  {
   "cell_type": "code",
   "execution_count": null,
   "id": "c8b2476e-f952-4899-af28-3d1a811cbcd4",
   "metadata": {},
   "outputs": [],
   "source": []
  }
 ],
 "metadata": {
  "kernelspec": {
   "display_name": "Python 3 (ipykernel)",
   "language": "python",
   "name": "python3"
  },
  "language_info": {
   "codemirror_mode": {
    "name": "ipython",
    "version": 3
   },
   "file_extension": ".py",
   "mimetype": "text/x-python",
   "name": "python",
   "nbconvert_exporter": "python",
   "pygments_lexer": "ipython3",
   "version": "3.8.10"
  }
 },
 "nbformat": 4,
 "nbformat_minor": 5
}
